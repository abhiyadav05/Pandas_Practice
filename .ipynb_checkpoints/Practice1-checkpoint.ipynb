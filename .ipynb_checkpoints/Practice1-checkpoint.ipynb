{
 "cells": [
  {
   "cell_type": "markdown",
   "id": "7d87eec5-f9cd-41bc-b147-2d89f8cd52c4",
   "metadata": {},
   "source": [
    "# Pandas Practice"
   ]
  },
  {
   "cell_type": "code",
   "execution_count": 7,
   "id": "0ddc92d4-0c98-4013-b9c5-3e601fd65746",
   "metadata": {},
   "outputs": [],
   "source": [
    "import pandas as pd"
   ]
  },
  {
   "cell_type": "code",
   "execution_count": 18,
   "id": "8bdc18f1-b237-4637-bb47-2a85d9eda22c",
   "metadata": {},
   "outputs": [
    {
     "name": "stdout",
     "output_type": "stream",
     "text": [
      "    cars  passings\n",
      "0    bmw         4\n",
      "1   alto         6\n",
      "2  tesla         6\n"
     ]
    }
   ],
   "source": [
    "mydataset={\n",
    "    'cars' : ['bmw','alto','tesla'],\n",
    "    'passings': [4,6,6]\n",
    "}\n",
    "var=pd.DataFrame(mydataset)\n",
    "print(var)\n",
    "    "
   ]
  },
  {
   "cell_type": "markdown",
   "id": "b5c9e2fb-4398-4047-969e-6c91b7410849",
   "metadata": {},
   "source": [
    "## Pandas Series"
   ]
  },
  {
   "cell_type": "code",
   "execution_count": 32,
   "id": "90563a46-b912-4a3a-9f58-c7f061e4ca61",
   "metadata": {},
   "outputs": [
    {
     "name": "stdout",
     "output_type": "stream",
     "text": [
      "x     1\n",
      "y     3\n",
      "z    34\n",
      "k     5\n",
      "dtype: int64\n",
      "5\n"
     ]
    }
   ],
   "source": [
    "a=[1,3,34,5]\n",
    "myvar=pd.Series(a, index=[\"x\",\"y\",\"z\",\"k\"])\n",
    "print(myvar)\n",
    "print(myvar['k'])"
   ]
  },
  {
   "cell_type": "markdown",
   "id": "5ba8e20e-b96e-4baf-b51e-0dafb174a590",
   "metadata": {},
   "source": [
    "## DatFrame\n",
    "        *** A pandas dataframe is 2D data structure like table with rows and columns***\n",
    "        "
   ]
  },
  {
   "cell_type": "code",
   "execution_count": 43,
   "id": "2c00bfe3-d403-40f6-96fd-68acdfddcf79",
   "metadata": {},
   "outputs": [
    {
     "name": "stdout",
     "output_type": "stream",
     "text": [
      "    cars  passings\n",
      "0    bmw         4\n",
      "2  tesla         6\n",
      "1   alto         6\n"
     ]
    }
   ],
   "source": [
    "mydataset={\n",
    "    'cars' : ['bmw','alto','tesla'],\n",
    "    'passings': [4,6,6]\n",
    "}\n",
    "myvar=pd.DataFrame(mydataset)\n",
    "# print(myvar)\n",
    "# myvar\n",
    "\n",
    "# pandas use the loc attribute to return one or more specified row (s)\n",
    "print(myvar.loc[[0,2,1]])\n",
    "# we can change the index name of the row like index=[\"a\",\"b\"] then excess by the name of itb"
   ]
  },
  {
   "cell_type": "markdown",
   "id": "974e740f-2e19-4f7d-b27d-84e6c0e8273c",
   "metadata": {},
   "source": [
    "#Read CSV File\n",
    "*** we use to_string()  funtion for read the all the data from the dataframe"
   ]
  },
  {
   "cell_type": "code",
   "execution_count": 44,
   "id": "b8133965-2a8f-48a9-9d5f-2de878994aad",
   "metadata": {},
   "outputs": [
    {
     "name": "stdout",
     "output_type": "stream",
     "text": [
      "60\n"
     ]
    }
   ],
   "source": [
    "print(pd.options.display.max_rows)"
   ]
  },
  {
   "cell_type": "markdown",
   "id": "b9d7af7a-4664-459d-a816-704922eaf561",
   "metadata": {},
   "source": [
    "#Read Jason File\n",
    "df=pd.read_json('data.json')\n",
    "jason=python dictionary form"
   ]
  },
  {
   "cell_type": "code",
   "execution_count": 48,
   "id": "530e0a30-2e18-4911-af83-2eca0a532b6a",
   "metadata": {},
   "outputs": [
    {
     "name": "stdout",
     "output_type": "stream",
     "text": [
      "   Duration  Pulse  Maxpulse  Calories\n",
      "0        60    110       130       409\n",
      "1        60    117       145       479\n",
      "2        60    103       135       340\n",
      "3        45    109       175       282\n",
      "4        45    117       148       406\n",
      "5        60    102       127       300\n",
      "<class 'pandas.core.frame.DataFrame'>\n",
      "Index: 6 entries, 0 to 5\n",
      "Data columns (total 4 columns):\n",
      " #   Column    Non-Null Count  Dtype\n",
      "---  ------    --------------  -----\n",
      " 0   Duration  6 non-null      int64\n",
      " 1   Pulse     6 non-null      int64\n",
      " 2   Maxpulse  6 non-null      int64\n",
      " 3   Calories  6 non-null      int64\n",
      "dtypes: int64(4)\n",
      "memory usage: 240.0+ bytes\n",
      "None\n"
     ]
    }
   ],
   "source": [
    "data = {\n",
    "  \"Duration\":{\n",
    "    \"0\":60,\n",
    "    \"1\":60,\n",
    "    \"2\":60,\n",
    "    \"3\":45,\n",
    "    \"4\":45,\n",
    "    \"5\":60\n",
    "  },\n",
    "  \"Pulse\":{\n",
    "    \"0\":110,\n",
    "    \"1\":117,\n",
    "    \"2\":103,\n",
    "    \"3\":109,\n",
    "    \"4\":117,\n",
    "    \"5\":102\n",
    "  },\n",
    "  \"Maxpulse\":{\n",
    "    \"0\":130,\n",
    "    \"1\":145,\n",
    "    \"2\":135,\n",
    "    \"3\":175,\n",
    "    \"4\":148,\n",
    "    \"5\":127\n",
    "  },\n",
    "  \"Calories\":{\n",
    "    \"0\":409,\n",
    "    \"1\":479,\n",
    "    \"2\":340,\n",
    "    \"3\":282,\n",
    "    \"4\":406,\n",
    "    \"5\":300\n",
    "  }\n",
    "}\n",
    "df=pd.DataFrame(data)\n",
    "print(df)\n",
    "# df.head() gives the uppper 5 data and df.tail() gives the lower 5 data\n",
    "df.head(10)\n",
    "print(df.info())"
   ]
  }
 ],
 "metadata": {
  "kernelspec": {
   "display_name": "Python 3 (ipykernel)",
   "language": "python",
   "name": "python3"
  },
  "language_info": {
   "codemirror_mode": {
    "name": "ipython",
    "version": 3
   },
   "file_extension": ".py",
   "mimetype": "text/x-python",
   "name": "python",
   "nbconvert_exporter": "python",
   "pygments_lexer": "ipython3",
   "version": "3.11.4"
  }
 },
 "nbformat": 4,
 "nbformat_minor": 5
}
