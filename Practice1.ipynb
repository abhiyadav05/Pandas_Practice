{
 "cells": [
  {
   "cell_type": "markdown",
   "id": "7d87eec5-f9cd-41bc-b147-2d89f8cd52c4",
   "metadata": {},
   "source": [
    "# Pandas Practice"
   ]
  },
  {
   "cell_type": "code",
   "execution_count": 1,
   "id": "0ddc92d4-0c98-4013-b9c5-3e601fd65746",
   "metadata": {},
   "outputs": [],
   "source": [
    "import pandas as pd\n",
    "import numpy as np"
   ]
  },
  {
   "cell_type": "code",
   "execution_count": 2,
   "id": "8bdc18f1-b237-4637-bb47-2a85d9eda22c",
   "metadata": {},
   "outputs": [
    {
     "name": "stdout",
     "output_type": "stream",
     "text": [
      "    cars  passings\n",
      "0    bmw         4\n",
      "1   alto         6\n",
      "2  tesla         6\n"
     ]
    }
   ],
   "source": [
    "mydataset={\n",
    "    'cars' : ['bmw','alto','tesla'],\n",
    "    'passings': [4,6,6]\n",
    "}\n",
    "var=pd.DataFrame(mydataset)\n",
    "print(var)\n",
    "    "
   ]
  },
  {
   "cell_type": "markdown",
   "id": "b5c9e2fb-4398-4047-969e-6c91b7410849",
   "metadata": {},
   "source": [
    "## Pandas Series"
   ]
  },
  {
   "cell_type": "code",
   "execution_count": 3,
   "id": "90563a46-b912-4a3a-9f58-c7f061e4ca61",
   "metadata": {},
   "outputs": [
    {
     "name": "stdout",
     "output_type": "stream",
     "text": [
      "x     1\n",
      "y     3\n",
      "z    34\n",
      "k     5\n",
      "dtype: int64\n",
      "5\n"
     ]
    }
   ],
   "source": [
    "a=[1,3,34,5]\n",
    "myvar=pd.Series(a, index=[\"x\",\"y\",\"z\",\"k\"])\n",
    "print(myvar)\n",
    "print(myvar['k'])"
   ]
  },
  {
   "cell_type": "markdown",
   "id": "5ba8e20e-b96e-4baf-b51e-0dafb174a590",
   "metadata": {},
   "source": [
    "## DatFrame\n",
    "        *** A pandas dataframe is 2D data structure like table with rows and columns***\n",
    "        "
   ]
  },
  {
   "cell_type": "code",
   "execution_count": 4,
   "id": "2c00bfe3-d403-40f6-96fd-68acdfddcf79",
   "metadata": {},
   "outputs": [
    {
     "name": "stdout",
     "output_type": "stream",
     "text": [
      "    cars  passings\n",
      "0    bmw         4\n",
      "2  tesla         6\n",
      "1   alto         6\n"
     ]
    }
   ],
   "source": [
    "mydataset={\n",
    "    'cars' : ['bmw','alto','tesla'],\n",
    "    'passings': [4,6,6]\n",
    "}\n",
    "myvar=pd.DataFrame(mydataset)\n",
    "# print(myvar)\n",
    "# myvar\n",
    "\n",
    "# pandas use the loc attribute to return one or more specified row (s)\n",
    "print(myvar.loc[[0,2,1]])\n",
    "# we can change the index name of the row like index=[\"a\",\"b\"] then excess by the name of itb"
   ]
  },
  {
   "cell_type": "markdown",
   "id": "974e740f-2e19-4f7d-b27d-84e6c0e8273c",
   "metadata": {},
   "source": [
    "#Read CSV File\n",
    "*** we use to_string()  funtion for read the all the data from the dataframe"
   ]
  },
  {
   "cell_type": "code",
   "execution_count": 5,
   "id": "b8133965-2a8f-48a9-9d5f-2de878994aad",
   "metadata": {},
   "outputs": [
    {
     "name": "stdout",
     "output_type": "stream",
     "text": [
      "60\n"
     ]
    }
   ],
   "source": [
    "print(pd.options.display.max_rows)"
   ]
  },
  {
   "cell_type": "markdown",
   "id": "b9d7af7a-4664-459d-a816-704922eaf561",
   "metadata": {},
   "source": [
    "#Read Jason File\n",
    "df=pd.read_json('data.json')\n",
    "jason=python dictionary form"
   ]
  },
  {
   "cell_type": "code",
   "execution_count": 6,
   "id": "530e0a30-2e18-4911-af83-2eca0a532b6a",
   "metadata": {},
   "outputs": [
    {
     "name": "stdout",
     "output_type": "stream",
     "text": [
      "   Duration  Pulse  Maxpulse  Calories\n",
      "0        60    110       130       409\n",
      "1        60    117       145       479\n",
      "2        60    103       135       340\n",
      "3        45    109       175       282\n",
      "4        45    117       148       406\n",
      "5        60    102       127       300\n",
      "<class 'pandas.core.frame.DataFrame'>\n",
      "Index: 6 entries, 0 to 5\n",
      "Data columns (total 4 columns):\n",
      " #   Column    Non-Null Count  Dtype\n",
      "---  ------    --------------  -----\n",
      " 0   Duration  6 non-null      int64\n",
      " 1   Pulse     6 non-null      int64\n",
      " 2   Maxpulse  6 non-null      int64\n",
      " 3   Calories  6 non-null      int64\n",
      "dtypes: int64(4)\n",
      "memory usage: 240.0+ bytes\n",
      "None\n"
     ]
    }
   ],
   "source": [
    "data = {\n",
    "  \"Duration\":{\n",
    "    \"0\":60,\n",
    "    \"1\":60,\n",
    "    \"2\":60,\n",
    "    \"3\":45,\n",
    "    \"4\":45,\n",
    "    \"5\":60\n",
    "  },\n",
    "  \"Pulse\":{\n",
    "    \"0\":110,\n",
    "    \"1\":117,\n",
    "    \"2\":103,\n",
    "    \"3\":109,\n",
    "    \"4\":117,\n",
    "    \"5\":102\n",
    "  },\n",
    "  \"Maxpulse\":{\n",
    "    \"0\":130,\n",
    "    \"1\":145,\n",
    "    \"2\":135,\n",
    "    \"3\":175,\n",
    "    \"4\":148,\n",
    "    \"5\":127\n",
    "  },\n",
    "  \"Calories\":{\n",
    "    \"0\":409,\n",
    "    \"1\":479,\n",
    "    \"2\":340,\n",
    "    \"3\":282,\n",
    "    \"4\":406,\n",
    "    \"5\":300\n",
    "  }\n",
    "}\n",
    "df=pd.DataFrame(data)\n",
    "print(df)\n",
    "# df.head() gives the uppper 5 data and df.tail() gives the lower 5 data\n",
    "df.head(10)\n",
    "print(df.info())"
   ]
  },
  {
   "cell_type": "code",
   "execution_count": 31,
   "id": "43aeab20-cde7-4f67-b26e-c9fca4370ca4",
   "metadata": {},
   "outputs": [
    {
     "name": "stdout",
     "output_type": "stream",
     "text": [
      "<class 'pandas.core.frame.DataFrame'>\n",
      "RangeIndex: 1094 entries, 0 to 1093\n",
      "Data columns (total 6 columns):\n",
      " #   Column         Non-Null Count  Dtype  \n",
      "---  ------         --------------  -----  \n",
      " 0   Sales Person   1094 non-null   object \n",
      " 1   Country        1092 non-null   object \n",
      " 2   Product        1091 non-null   object \n",
      " 3   Date           1087 non-null   object \n",
      " 4   Amount         1091 non-null   object \n",
      " 5   Boxes Shipped  1092 non-null   float64\n",
      "dtypes: float64(1), object(5)\n",
      "memory usage: 51.4+ KB\n"
     ]
    }
   ],
   "source": [
    "data=pd.read_csv(r\"C:\\Users\\ABHISHEK YADAV\\Downloads\\archive\\choclateData.csv\")\n",
    "data.info()"
   ]
  },
  {
   "cell_type": "markdown",
   "id": "4842dfec-4503-4311-b181-b44e08edb4e3",
   "metadata": {},
   "source": [
    "#Analyze The Dataset "
   ]
  },
  {
   "cell_type": "code",
   "execution_count": 8,
   "id": "404ccc49-ff7b-4b82-b838-52a9766edd05",
   "metadata": {
    "scrolled": true
   },
   "outputs": [
    {
     "data": {
      "text/html": [
       "<div>\n",
       "<style scoped>\n",
       "    .dataframe tbody tr th:only-of-type {\n",
       "        vertical-align: middle;\n",
       "    }\n",
       "\n",
       "    .dataframe tbody tr th {\n",
       "        vertical-align: top;\n",
       "    }\n",
       "\n",
       "    .dataframe thead th {\n",
       "        text-align: right;\n",
       "    }\n",
       "</style>\n",
       "<table border=\"1\" class=\"dataframe\">\n",
       "  <thead>\n",
       "    <tr style=\"text-align: right;\">\n",
       "      <th></th>\n",
       "      <th>Sales Person</th>\n",
       "      <th>Country</th>\n",
       "      <th>Product</th>\n",
       "      <th>Date</th>\n",
       "      <th>Amount</th>\n",
       "      <th>Boxes Shipped</th>\n",
       "    </tr>\n",
       "  </thead>\n",
       "  <tbody>\n",
       "    <tr>\n",
       "      <th>0</th>\n",
       "      <td>Jehu Rudeforth</td>\n",
       "      <td>UK</td>\n",
       "      <td>Mint Chip Choco</td>\n",
       "      <td>04-Jan-22</td>\n",
       "      <td>$5,320</td>\n",
       "      <td>180.0</td>\n",
       "    </tr>\n",
       "    <tr>\n",
       "      <th>1</th>\n",
       "      <td>Van Tuxwell</td>\n",
       "      <td>India</td>\n",
       "      <td>85% Dark Bars</td>\n",
       "      <td>01-Aug-22</td>\n",
       "      <td>$7,896</td>\n",
       "      <td>94.0</td>\n",
       "    </tr>\n",
       "    <tr>\n",
       "      <th>2</th>\n",
       "      <td>Gigi Bohling</td>\n",
       "      <td>India</td>\n",
       "      <td>Peanut Butter Cubes</td>\n",
       "      <td>07-Jul-22</td>\n",
       "      <td>$4,501</td>\n",
       "      <td>91.0</td>\n",
       "    </tr>\n",
       "    <tr>\n",
       "      <th>3</th>\n",
       "      <td>Jan Morforth</td>\n",
       "      <td>Australia</td>\n",
       "      <td>Peanut Butter Cubes</td>\n",
       "      <td>27-Apr-22</td>\n",
       "      <td>$12,726</td>\n",
       "      <td>342.0</td>\n",
       "    </tr>\n",
       "    <tr>\n",
       "      <th>4</th>\n",
       "      <td>Jehu Rudeforth</td>\n",
       "      <td>UK</td>\n",
       "      <td>Peanut Butter Cubes</td>\n",
       "      <td>NaN</td>\n",
       "      <td>$13,685</td>\n",
       "      <td>184.0</td>\n",
       "    </tr>\n",
       "    <tr>\n",
       "      <th>5</th>\n",
       "      <td>Van Tuxwell</td>\n",
       "      <td>India</td>\n",
       "      <td>Smooth Sliky Salty</td>\n",
       "      <td>06-Jun-22</td>\n",
       "      <td>$5,376</td>\n",
       "      <td>NaN</td>\n",
       "    </tr>\n",
       "    <tr>\n",
       "      <th>6</th>\n",
       "      <td>Oby Sorrel</td>\n",
       "      <td>NaN</td>\n",
       "      <td>99% Dark &amp; Pure</td>\n",
       "      <td>25-Jan-22</td>\n",
       "      <td>$13,685</td>\n",
       "      <td>176.0</td>\n",
       "    </tr>\n",
       "    <tr>\n",
       "      <th>7</th>\n",
       "      <td>Gunar Cockshoot</td>\n",
       "      <td>Australia</td>\n",
       "      <td>After Nines</td>\n",
       "      <td>NaN</td>\n",
       "      <td>$3,080</td>\n",
       "      <td>73.0</td>\n",
       "    </tr>\n",
       "    <tr>\n",
       "      <th>8</th>\n",
       "      <td>Jehu Rudeforth</td>\n",
       "      <td>New Zealand</td>\n",
       "      <td>50% Dark Bites</td>\n",
       "      <td>20-Apr-22</td>\n",
       "      <td>NaN</td>\n",
       "      <td>59.0</td>\n",
       "    </tr>\n",
       "    <tr>\n",
       "      <th>9</th>\n",
       "      <td>Brien Boise</td>\n",
       "      <td>Australia</td>\n",
       "      <td>99% Dark &amp; Pure</td>\n",
       "      <td>04-Jul-22</td>\n",
       "      <td>$2,835</td>\n",
       "      <td>102.0</td>\n",
       "    </tr>\n",
       "  </tbody>\n",
       "</table>\n",
       "</div>"
      ],
      "text/plain": [
       "      Sales Person      Country              Product       Date    Amount  \\\n",
       "0   Jehu Rudeforth           UK      Mint Chip Choco  04-Jan-22   $5,320    \n",
       "1      Van Tuxwell        India        85% Dark Bars  01-Aug-22   $7,896    \n",
       "2     Gigi Bohling        India  Peanut Butter Cubes  07-Jul-22   $4,501    \n",
       "3     Jan Morforth    Australia  Peanut Butter Cubes  27-Apr-22  $12,726    \n",
       "4   Jehu Rudeforth           UK  Peanut Butter Cubes        NaN  $13,685    \n",
       "5      Van Tuxwell        India   Smooth Sliky Salty  06-Jun-22   $5,376    \n",
       "6       Oby Sorrel          NaN      99% Dark & Pure  25-Jan-22  $13,685    \n",
       "7  Gunar Cockshoot    Australia          After Nines        NaN   $3,080    \n",
       "8   Jehu Rudeforth  New Zealand       50% Dark Bites  20-Apr-22       NaN   \n",
       "9      Brien Boise    Australia      99% Dark & Pure  04-Jul-22   $2,835    \n",
       "\n",
       "   Boxes Shipped  \n",
       "0          180.0  \n",
       "1           94.0  \n",
       "2           91.0  \n",
       "3          342.0  \n",
       "4          184.0  \n",
       "5            NaN  \n",
       "6          176.0  \n",
       "7           73.0  \n",
       "8           59.0  \n",
       "9          102.0  "
      ]
     },
     "execution_count": 8,
     "metadata": {},
     "output_type": "execute_result"
    }
   ],
   "source": [
    "data.head(10)"
   ]
  },
  {
   "cell_type": "code",
   "execution_count": 9,
   "id": "e7651d84-7a4b-4fab-9261-2935b6da9d7b",
   "metadata": {},
   "outputs": [
    {
     "name": "stdout",
     "output_type": "stream",
     "text": [
      "How many null value\n",
      "Sales Person     0\n",
      "Country          2\n",
      "Product          3\n",
      "Date             7\n",
      "Amount           3\n",
      "Boxes Shipped    2\n",
      "dtype: int64\n"
     ]
    }
   ],
   "source": [
    "print(\"How many null value\")\n",
    "print(data.isnull().sum())\n"
   ]
  },
  {
   "cell_type": "code",
   "execution_count": 10,
   "id": "ff2cfccc-09e2-48f4-9e26-7124dd535674",
   "metadata": {},
   "outputs": [
    {
     "name": "stdout",
     "output_type": "stream",
     "text": [
      "The unique element :\n",
      "7\n"
     ]
    }
   ],
   "source": [
    "print(\"The unique element :\")\n",
    "print(len(data['Country'].unique()))\n"
   ]
  },
  {
   "cell_type": "code",
   "execution_count": 11,
   "id": "a6e6b7f6-60f0-4b88-8e8d-f4a8299d5fc9",
   "metadata": {},
   "outputs": [
    {
     "name": "stdout",
     "output_type": "stream",
     "text": [
      "The all value count of colums unique element\n",
      "Country\n",
      "Australia      204\n",
      "India          184\n",
      "USA            179\n",
      "UK             177\n",
      "Canada         175\n",
      "New Zealand    173\n",
      "Name: count, dtype: int64\n"
     ]
    }
   ],
   "source": [
    "print(\"The all value count of colums unique element\")\n",
    "print(data['Country'].value_counts())"
   ]
  },
  {
   "cell_type": "markdown",
   "id": "e566a318-355d-4878-89d2-d661e4584ec5",
   "metadata": {},
   "source": [
    "## change the date from string to data time data dype\n"
   ]
  },
  {
   "cell_type": "code",
   "execution_count": 33,
   "id": "2cf2531c-f99d-462f-81b2-4a48c5f6863b",
   "metadata": {},
   "outputs": [
    {
     "data": {
      "text/html": [
       "<div>\n",
       "<style scoped>\n",
       "    .dataframe tbody tr th:only-of-type {\n",
       "        vertical-align: middle;\n",
       "    }\n",
       "\n",
       "    .dataframe tbody tr th {\n",
       "        vertical-align: top;\n",
       "    }\n",
       "\n",
       "    .dataframe thead th {\n",
       "        text-align: right;\n",
       "    }\n",
       "</style>\n",
       "<table border=\"1\" class=\"dataframe\">\n",
       "  <thead>\n",
       "    <tr style=\"text-align: right;\">\n",
       "      <th></th>\n",
       "      <th>Sales Person</th>\n",
       "      <th>Country</th>\n",
       "      <th>Product</th>\n",
       "      <th>Date</th>\n",
       "      <th>Amount</th>\n",
       "      <th>Boxes Shipped</th>\n",
       "    </tr>\n",
       "  </thead>\n",
       "  <tbody>\n",
       "    <tr>\n",
       "      <th>0</th>\n",
       "      <td>Jehu Rudeforth</td>\n",
       "      <td>UK</td>\n",
       "      <td>Mint Chip Choco</td>\n",
       "      <td>2022-01-04</td>\n",
       "      <td>$5,320</td>\n",
       "      <td>180.0</td>\n",
       "    </tr>\n",
       "    <tr>\n",
       "      <th>1</th>\n",
       "      <td>Van Tuxwell</td>\n",
       "      <td>India</td>\n",
       "      <td>85% Dark Bars</td>\n",
       "      <td>2022-08-01</td>\n",
       "      <td>$7,896</td>\n",
       "      <td>94.0</td>\n",
       "    </tr>\n",
       "    <tr>\n",
       "      <th>2</th>\n",
       "      <td>Gigi Bohling</td>\n",
       "      <td>India</td>\n",
       "      <td>Peanut Butter Cubes</td>\n",
       "      <td>2022-07-07</td>\n",
       "      <td>$4,501</td>\n",
       "      <td>91.0</td>\n",
       "    </tr>\n",
       "    <tr>\n",
       "      <th>3</th>\n",
       "      <td>Jan Morforth</td>\n",
       "      <td>Australia</td>\n",
       "      <td>Peanut Butter Cubes</td>\n",
       "      <td>2022-04-27</td>\n",
       "      <td>$12,726</td>\n",
       "      <td>342.0</td>\n",
       "    </tr>\n",
       "    <tr>\n",
       "      <th>4</th>\n",
       "      <td>Jehu Rudeforth</td>\n",
       "      <td>UK</td>\n",
       "      <td>Peanut Butter Cubes</td>\n",
       "      <td>NaT</td>\n",
       "      <td>$13,685</td>\n",
       "      <td>184.0</td>\n",
       "    </tr>\n",
       "    <tr>\n",
       "      <th>5</th>\n",
       "      <td>Van Tuxwell</td>\n",
       "      <td>India</td>\n",
       "      <td>Smooth Sliky Salty</td>\n",
       "      <td>2022-06-06</td>\n",
       "      <td>$5,376</td>\n",
       "      <td>NaN</td>\n",
       "    </tr>\n",
       "    <tr>\n",
       "      <th>6</th>\n",
       "      <td>Oby Sorrel</td>\n",
       "      <td>NaN</td>\n",
       "      <td>99% Dark &amp; Pure</td>\n",
       "      <td>2022-01-25</td>\n",
       "      <td>$13,685</td>\n",
       "      <td>176.0</td>\n",
       "    </tr>\n",
       "    <tr>\n",
       "      <th>7</th>\n",
       "      <td>Gunar Cockshoot</td>\n",
       "      <td>Australia</td>\n",
       "      <td>After Nines</td>\n",
       "      <td>NaT</td>\n",
       "      <td>$3,080</td>\n",
       "      <td>73.0</td>\n",
       "    </tr>\n",
       "    <tr>\n",
       "      <th>8</th>\n",
       "      <td>Jehu Rudeforth</td>\n",
       "      <td>New Zealand</td>\n",
       "      <td>50% Dark Bites</td>\n",
       "      <td>2022-04-20</td>\n",
       "      <td>NaN</td>\n",
       "      <td>59.0</td>\n",
       "    </tr>\n",
       "    <tr>\n",
       "      <th>9</th>\n",
       "      <td>Brien Boise</td>\n",
       "      <td>Australia</td>\n",
       "      <td>99% Dark &amp; Pure</td>\n",
       "      <td>2022-07-04</td>\n",
       "      <td>$2,835</td>\n",
       "      <td>102.0</td>\n",
       "    </tr>\n",
       "    <tr>\n",
       "      <th>10</th>\n",
       "      <td>Rafaelita Blaksland</td>\n",
       "      <td>UK</td>\n",
       "      <td>Smooth Sliky Salty</td>\n",
       "      <td>2022-01-13</td>\n",
       "      <td>$4,704</td>\n",
       "      <td>62.0</td>\n",
       "    </tr>\n",
       "    <tr>\n",
       "      <th>11</th>\n",
       "      <td>Barr Faughny</td>\n",
       "      <td>USA</td>\n",
       "      <td>Orange Choco</td>\n",
       "      <td>2022-03-10</td>\n",
       "      <td>$3,703</td>\n",
       "      <td>11.0</td>\n",
       "    </tr>\n",
       "    <tr>\n",
       "      <th>12</th>\n",
       "      <td>Mallorie Waber</td>\n",
       "      <td>Canada</td>\n",
       "      <td>Eclairs</td>\n",
       "      <td>2022-01-13</td>\n",
       "      <td>$1,442</td>\n",
       "      <td>286.0</td>\n",
       "    </tr>\n",
       "    <tr>\n",
       "      <th>13</th>\n",
       "      <td>Karlen McCaffrey</td>\n",
       "      <td>New Zealand</td>\n",
       "      <td>Drinking Coco</td>\n",
       "      <td>2022-07-28</td>\n",
       "      <td>NaN</td>\n",
       "      <td>156.0</td>\n",
       "    </tr>\n",
       "    <tr>\n",
       "      <th>14</th>\n",
       "      <td>Marney O'Breen</td>\n",
       "      <td>New Zealand</td>\n",
       "      <td>Peanut Butter Cubes</td>\n",
       "      <td>2022-08-03</td>\n",
       "      <td>$8,379</td>\n",
       "      <td>173.0</td>\n",
       "    </tr>\n",
       "    <tr>\n",
       "      <th>15</th>\n",
       "      <td>Beverie Moffet</td>\n",
       "      <td>NaN</td>\n",
       "      <td>Organic Choco Syrup</td>\n",
       "      <td>2022-01-26</td>\n",
       "      <td>$6,790</td>\n",
       "      <td>356.0</td>\n",
       "    </tr>\n",
       "    <tr>\n",
       "      <th>16</th>\n",
       "      <td>Van Tuxwell</td>\n",
       "      <td>Canada</td>\n",
       "      <td>Organic Choco Syrup</td>\n",
       "      <td>2022-02-14</td>\n",
       "      <td>$4,067</td>\n",
       "      <td>42.0</td>\n",
       "    </tr>\n",
       "    <tr>\n",
       "      <th>17</th>\n",
       "      <td>Roddy Speechley</td>\n",
       "      <td>USA</td>\n",
       "      <td>Smooth Sliky Salty</td>\n",
       "      <td>2022-04-05</td>\n",
       "      <td>$3,017</td>\n",
       "      <td>140.0</td>\n",
       "    </tr>\n",
       "    <tr>\n",
       "      <th>18</th>\n",
       "      <td>Beverie Moffet</td>\n",
       "      <td>Canada</td>\n",
       "      <td>Milk Bars</td>\n",
       "      <td>2022-02-16</td>\n",
       "      <td>$8,799</td>\n",
       "      <td>250.0</td>\n",
       "    </tr>\n",
       "    <tr>\n",
       "      <th>19</th>\n",
       "      <td>Curtice Advani</td>\n",
       "      <td>UK</td>\n",
       "      <td>85% Dark Bars</td>\n",
       "      <td>2022-06-08</td>\n",
       "      <td>$1,085</td>\n",
       "      <td>172.0</td>\n",
       "    </tr>\n",
       "  </tbody>\n",
       "</table>\n",
       "</div>"
      ],
      "text/plain": [
       "           Sales Person      Country              Product       Date  \\\n",
       "0        Jehu Rudeforth           UK      Mint Chip Choco 2022-01-04   \n",
       "1           Van Tuxwell        India        85% Dark Bars 2022-08-01   \n",
       "2          Gigi Bohling        India  Peanut Butter Cubes 2022-07-07   \n",
       "3          Jan Morforth    Australia  Peanut Butter Cubes 2022-04-27   \n",
       "4        Jehu Rudeforth           UK  Peanut Butter Cubes        NaT   \n",
       "5           Van Tuxwell        India   Smooth Sliky Salty 2022-06-06   \n",
       "6            Oby Sorrel          NaN      99% Dark & Pure 2022-01-25   \n",
       "7       Gunar Cockshoot    Australia          After Nines        NaT   \n",
       "8        Jehu Rudeforth  New Zealand       50% Dark Bites 2022-04-20   \n",
       "9           Brien Boise    Australia      99% Dark & Pure 2022-07-04   \n",
       "10  Rafaelita Blaksland           UK   Smooth Sliky Salty 2022-01-13   \n",
       "11         Barr Faughny          USA         Orange Choco 2022-03-10   \n",
       "12       Mallorie Waber       Canada              Eclairs 2022-01-13   \n",
       "13     Karlen McCaffrey  New Zealand        Drinking Coco 2022-07-28   \n",
       "14       Marney O'Breen  New Zealand  Peanut Butter Cubes 2022-08-03   \n",
       "15       Beverie Moffet          NaN  Organic Choco Syrup 2022-01-26   \n",
       "16          Van Tuxwell       Canada  Organic Choco Syrup 2022-02-14   \n",
       "17      Roddy Speechley          USA   Smooth Sliky Salty 2022-04-05   \n",
       "18       Beverie Moffet       Canada            Milk Bars 2022-02-16   \n",
       "19       Curtice Advani           UK        85% Dark Bars 2022-06-08   \n",
       "\n",
       "      Amount  Boxes Shipped  \n",
       "0    $5,320           180.0  \n",
       "1    $7,896            94.0  \n",
       "2    $4,501            91.0  \n",
       "3   $12,726           342.0  \n",
       "4   $13,685           184.0  \n",
       "5    $5,376             NaN  \n",
       "6   $13,685           176.0  \n",
       "7    $3,080            73.0  \n",
       "8        NaN           59.0  \n",
       "9    $2,835           102.0  \n",
       "10   $4,704            62.0  \n",
       "11   $3,703            11.0  \n",
       "12   $1,442           286.0  \n",
       "13       NaN          156.0  \n",
       "14   $8,379           173.0  \n",
       "15   $6,790           356.0  \n",
       "16   $4,067            42.0  \n",
       "17   $3,017           140.0  \n",
       "18   $8,799           250.0  \n",
       "19   $1,085           172.0  "
      ]
     },
     "execution_count": 33,
     "metadata": {},
     "output_type": "execute_result"
    }
   ],
   "source": [
    "# print(data.info())\n",
    "# data['Date']=pd.to_datetime(data['Date'])\n",
    "\n",
    "data['Date']=data['Date'].astype('datetime64[ns]')\n",
    "# data['Amount']=data['Amount'][1:]\n",
    "# data['Amount']=data['Amount'].str.replace('[$,]','',regex=True).astype(int)\n",
    "# data['Amount']=pd.to_numeric(data['Amount'])\n",
    "# data['Amount']=data['Amount'].astype(int).slice[1:]\n",
    "data.head(20)\n",
    "# data.info()"
   ]
  },
  {
   "cell_type": "code",
   "execution_count": 13,
   "id": "2c24177f-5049-4b68-acc8-7a952184b3a0",
   "metadata": {},
   "outputs": [],
   "source": [
    "# data['Date']=pd.to_datetime(data['Date'],format='%d-%m-%Y')\n",
    "# data['Date']=data['Date'].str.strip()\n",
    "# data['Date']=pd.to_datetime(data['Date'],errors='coerce')\n",
    "# print(data.head())\n",
    "# data['Date']=data['Date'].dt.year\n",
    "# # print(data.info())\n",
    "# print(data['Date'].unique())\n",
    "# data['Date'].dtypes\n",
    "# data['Date']=data['Date'].dt.year\n"
   ]
  },
  {
   "cell_type": "code",
   "execution_count": 14,
   "id": "2642385f-dcd4-4847-8c5e-ac8e2e20ce8e",
   "metadata": {},
   "outputs": [],
   "source": [
    "for d in data['Date'] : \n",
    "    if(d==2022):\n",
    "        print(d)"
   ]
  },
  {
   "cell_type": "code",
   "execution_count": 15,
   "id": "8f65a563-f85a-4048-ada5-488921ad56f5",
   "metadata": {},
   "outputs": [
    {
     "data": {
      "text/plain": [
       "Date\n",
       "False    1094\n",
       "Name: count, dtype: int64"
      ]
     },
     "execution_count": 15,
     "metadata": {},
     "output_type": "execute_result"
    }
   ],
   "source": [
    "(data['Date']==2022).value_counts()"
   ]
  },
  {
   "cell_type": "code",
   "execution_count": 16,
   "id": "e22681bf-cee9-4dbe-b749-c607af6f0389",
   "metadata": {},
   "outputs": [
    {
     "data": {
      "text/html": [
       "<div>\n",
       "<style scoped>\n",
       "    .dataframe tbody tr th:only-of-type {\n",
       "        vertical-align: middle;\n",
       "    }\n",
       "\n",
       "    .dataframe tbody tr th {\n",
       "        vertical-align: top;\n",
       "    }\n",
       "\n",
       "    .dataframe thead th {\n",
       "        text-align: right;\n",
       "    }\n",
       "</style>\n",
       "<table border=\"1\" class=\"dataframe\">\n",
       "  <thead>\n",
       "    <tr style=\"text-align: right;\">\n",
       "      <th></th>\n",
       "      <th>Sales Person</th>\n",
       "      <th>Country</th>\n",
       "      <th>Product</th>\n",
       "      <th>Date</th>\n",
       "      <th>Amount</th>\n",
       "      <th>Boxes Shipped</th>\n",
       "    </tr>\n",
       "  </thead>\n",
       "  <tbody>\n",
       "    <tr>\n",
       "      <th>0</th>\n",
       "      <td>Jehu Rudeforth</td>\n",
       "      <td>UK</td>\n",
       "      <td>Mint Chip Choco</td>\n",
       "      <td>2022-01-04</td>\n",
       "      <td>$5,320</td>\n",
       "      <td>180.0</td>\n",
       "    </tr>\n",
       "    <tr>\n",
       "      <th>1</th>\n",
       "      <td>Van Tuxwell</td>\n",
       "      <td>India</td>\n",
       "      <td>85% Dark Bars</td>\n",
       "      <td>2022-08-01</td>\n",
       "      <td>$7,896</td>\n",
       "      <td>94.0</td>\n",
       "    </tr>\n",
       "    <tr>\n",
       "      <th>2</th>\n",
       "      <td>Gigi Bohling</td>\n",
       "      <td>India</td>\n",
       "      <td>Peanut Butter Cubes</td>\n",
       "      <td>2022-07-07</td>\n",
       "      <td>$4,501</td>\n",
       "      <td>91.0</td>\n",
       "    </tr>\n",
       "    <tr>\n",
       "      <th>3</th>\n",
       "      <td>Jan Morforth</td>\n",
       "      <td>Australia</td>\n",
       "      <td>Peanut Butter Cubes</td>\n",
       "      <td>2022-04-27</td>\n",
       "      <td>$12,726</td>\n",
       "      <td>342.0</td>\n",
       "    </tr>\n",
       "    <tr>\n",
       "      <th>4</th>\n",
       "      <td>Jehu Rudeforth</td>\n",
       "      <td>UK</td>\n",
       "      <td>Peanut Butter Cubes</td>\n",
       "      <td>NaT</td>\n",
       "      <td>$13,685</td>\n",
       "      <td>184.0</td>\n",
       "    </tr>\n",
       "    <tr>\n",
       "      <th>5</th>\n",
       "      <td>Van Tuxwell</td>\n",
       "      <td>India</td>\n",
       "      <td>Smooth Sliky Salty</td>\n",
       "      <td>2022-06-06</td>\n",
       "      <td>$5,376</td>\n",
       "      <td>NaN</td>\n",
       "    </tr>\n",
       "    <tr>\n",
       "      <th>6</th>\n",
       "      <td>Oby Sorrel</td>\n",
       "      <td>NaN</td>\n",
       "      <td>99% Dark &amp; Pure</td>\n",
       "      <td>2022-01-25</td>\n",
       "      <td>$13,685</td>\n",
       "      <td>176.0</td>\n",
       "    </tr>\n",
       "    <tr>\n",
       "      <th>7</th>\n",
       "      <td>Gunar Cockshoot</td>\n",
       "      <td>Australia</td>\n",
       "      <td>After Nines</td>\n",
       "      <td>NaT</td>\n",
       "      <td>$3,080</td>\n",
       "      <td>73.0</td>\n",
       "    </tr>\n",
       "    <tr>\n",
       "      <th>8</th>\n",
       "      <td>Jehu Rudeforth</td>\n",
       "      <td>New Zealand</td>\n",
       "      <td>50% Dark Bites</td>\n",
       "      <td>2022-04-20</td>\n",
       "      <td>NaN</td>\n",
       "      <td>59.0</td>\n",
       "    </tr>\n",
       "    <tr>\n",
       "      <th>9</th>\n",
       "      <td>Brien Boise</td>\n",
       "      <td>Australia</td>\n",
       "      <td>99% Dark &amp; Pure</td>\n",
       "      <td>2022-07-04</td>\n",
       "      <td>$2,835</td>\n",
       "      <td>102.0</td>\n",
       "    </tr>\n",
       "  </tbody>\n",
       "</table>\n",
       "</div>"
      ],
      "text/plain": [
       "      Sales Person      Country              Product       Date    Amount  \\\n",
       "0   Jehu Rudeforth           UK      Mint Chip Choco 2022-01-04   $5,320    \n",
       "1      Van Tuxwell        India        85% Dark Bars 2022-08-01   $7,896    \n",
       "2     Gigi Bohling        India  Peanut Butter Cubes 2022-07-07   $4,501    \n",
       "3     Jan Morforth    Australia  Peanut Butter Cubes 2022-04-27  $12,726    \n",
       "4   Jehu Rudeforth           UK  Peanut Butter Cubes        NaT  $13,685    \n",
       "5      Van Tuxwell        India   Smooth Sliky Salty 2022-06-06   $5,376    \n",
       "6       Oby Sorrel          NaN      99% Dark & Pure 2022-01-25  $13,685    \n",
       "7  Gunar Cockshoot    Australia          After Nines        NaT   $3,080    \n",
       "8   Jehu Rudeforth  New Zealand       50% Dark Bites 2022-04-20       NaN   \n",
       "9      Brien Boise    Australia      99% Dark & Pure 2022-07-04   $2,835    \n",
       "\n",
       "   Boxes Shipped  \n",
       "0          180.0  \n",
       "1           94.0  \n",
       "2           91.0  \n",
       "3          342.0  \n",
       "4          184.0  \n",
       "5            NaN  \n",
       "6          176.0  \n",
       "7           73.0  \n",
       "8           59.0  \n",
       "9          102.0  "
      ]
     },
     "execution_count": 16,
     "metadata": {},
     "output_type": "execute_result"
    }
   ],
   "source": [
    "data.head(10)\n"
   ]
  },
  {
   "cell_type": "markdown",
   "id": "a1f871a2-a41f-45d7-af96-b6a635119ce4",
   "metadata": {},
   "source": [
    "## Cleaning The Data"
   ]
  },
  {
   "cell_type": "markdown",
   "id": "5bd54d88-569f-42ad-90cb-488c68050391",
   "metadata": {},
   "source": [
    "### for the removing the null value in the data set we use data.dropna() function we can reflect the data in to original bye the \n",
    "### using of inplace=True "
   ]
  },
  {
   "cell_type": "code",
   "execution_count": 17,
   "id": "40ffce3c-7ddf-46e8-9788-8a1a184e211a",
   "metadata": {},
   "outputs": [
    {
     "data": {
      "text/plain": [
       "Sales Person     0\n",
       "Country          2\n",
       "Product          3\n",
       "Date             7\n",
       "Amount           3\n",
       "Boxes Shipped    2\n",
       "dtype: int64"
      ]
     },
     "execution_count": 17,
     "metadata": {},
     "output_type": "execute_result"
    }
   ],
   "source": [
    "data.isnull().sum()"
   ]
  },
  {
   "cell_type": "markdown",
   "id": "fd7feff4-7f5d-4c4d-9b89-1153a47d4171",
   "metadata": {},
   "source": [
    "### data.fillna(any_data,inplace=True) this is use for filling the null value by some other data "
   ]
  },
  {
   "cell_type": "code",
   "execution_count": 18,
   "id": "a4ccada9-ff19-416a-9a1b-a07285b65c32",
   "metadata": {},
   "outputs": [
    {
     "data": {
      "text/html": [
       "<div>\n",
       "<style scoped>\n",
       "    .dataframe tbody tr th:only-of-type {\n",
       "        vertical-align: middle;\n",
       "    }\n",
       "\n",
       "    .dataframe tbody tr th {\n",
       "        vertical-align: top;\n",
       "    }\n",
       "\n",
       "    .dataframe thead th {\n",
       "        text-align: right;\n",
       "    }\n",
       "</style>\n",
       "<table border=\"1\" class=\"dataframe\">\n",
       "  <thead>\n",
       "    <tr style=\"text-align: right;\">\n",
       "      <th></th>\n",
       "      <th>Date</th>\n",
       "      <th>Boxes Shipped</th>\n",
       "    </tr>\n",
       "  </thead>\n",
       "  <tbody>\n",
       "    <tr>\n",
       "      <th>count</th>\n",
       "      <td>1087</td>\n",
       "      <td>1094.000000</td>\n",
       "    </tr>\n",
       "    <tr>\n",
       "      <th>mean</th>\n",
       "      <td>2022-05-03 11:51:23.348666112</td>\n",
       "      <td>161.908592</td>\n",
       "    </tr>\n",
       "    <tr>\n",
       "      <th>min</th>\n",
       "      <td>2022-01-03 00:00:00</td>\n",
       "      <td>1.000000</td>\n",
       "    </tr>\n",
       "    <tr>\n",
       "      <th>25%</th>\n",
       "      <td>2022-03-02 00:00:00</td>\n",
       "      <td>70.000000</td>\n",
       "    </tr>\n",
       "    <tr>\n",
       "      <th>50%</th>\n",
       "      <td>2022-05-11 00:00:00</td>\n",
       "      <td>135.000000</td>\n",
       "    </tr>\n",
       "    <tr>\n",
       "      <th>75%</th>\n",
       "      <td>2022-07-04 00:00:00</td>\n",
       "      <td>228.750000</td>\n",
       "    </tr>\n",
       "    <tr>\n",
       "      <th>max</th>\n",
       "      <td>2022-08-31 00:00:00</td>\n",
       "      <td>709.000000</td>\n",
       "    </tr>\n",
       "    <tr>\n",
       "      <th>std</th>\n",
       "      <td>NaN</td>\n",
       "      <td>121.486398</td>\n",
       "    </tr>\n",
       "  </tbody>\n",
       "</table>\n",
       "</div>"
      ],
      "text/plain": [
       "                                Date  Boxes Shipped\n",
       "count                           1087    1094.000000\n",
       "mean   2022-05-03 11:51:23.348666112     161.908592\n",
       "min              2022-01-03 00:00:00       1.000000\n",
       "25%              2022-03-02 00:00:00      70.000000\n",
       "50%              2022-05-11 00:00:00     135.000000\n",
       "75%              2022-07-04 00:00:00     228.750000\n",
       "max              2022-08-31 00:00:00     709.000000\n",
       "std                              NaN     121.486398"
      ]
     },
     "execution_count": 18,
     "metadata": {},
     "output_type": "execute_result"
    }
   ],
   "source": [
    "x=data['Boxes Shipped'].mean()\n",
    "# data['Boxes Shipped'].fillna(x)\n",
    "data['Boxes Shipped']=data['Boxes Shipped'].fillna(x).astype(int)\n",
    "data.describe()\n"
   ]
  },
  {
   "cell_type": "code",
   "execution_count": 19,
   "id": "44743bda-a303-41e7-8cfc-e7382db120d1",
   "metadata": {},
   "outputs": [
    {
     "name": "stdout",
     "output_type": "stream",
     "text": [
      "161\n",
      "161\n"
     ]
    }
   ],
   "source": [
    "# data.isnull().sum()\n",
    "for d in data['Boxes Shipped']:\n",
    "    if(d==161):\n",
    "        print(d)"
   ]
  },
  {
   "cell_type": "code",
   "execution_count": 20,
   "id": "01fb86be-a66a-4f5f-9769-3cde8d47ebb4",
   "metadata": {},
   "outputs": [
    {
     "ename": "SyntaxError",
     "evalue": "invalid syntax (1069081376.py, line 2)",
     "output_type": "error",
     "traceback": [
      "\u001b[1;36m  Cell \u001b[1;32mIn[20], line 2\u001b[1;36m\u001b[0m\n\u001b[1;33m    (data['Boxes Shipped']==180)..sum()\u001b[0m\n\u001b[1;37m                                 ^\u001b[0m\n\u001b[1;31mSyntaxError\u001b[0m\u001b[1;31m:\u001b[0m invalid syntax\n"
     ]
    }
   ],
   "source": [
    "data.head()\n",
    "(data['Boxes Shipped']==180)..sum()"
   ]
  }
 ],
 "metadata": {
  "kernelspec": {
   "display_name": "Python 3 (ipykernel)",
   "language": "python",
   "name": "python3"
  },
  "language_info": {
   "codemirror_mode": {
    "name": "ipython",
    "version": 3
   },
   "file_extension": ".py",
   "mimetype": "text/x-python",
   "name": "python",
   "nbconvert_exporter": "python",
   "pygments_lexer": "ipython3",
   "version": "3.12.7"
  }
 },
 "nbformat": 4,
 "nbformat_minor": 5
}
